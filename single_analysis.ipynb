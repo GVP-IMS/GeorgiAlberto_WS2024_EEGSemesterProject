{
 "cells": [
  {
   "cell_type": "markdown",
   "metadata": {},
   "source": [
    "### Adjust Settings"
   ]
  },
  {
   "cell_type": "code",
   "execution_count": 1,
   "metadata": {},
   "outputs": [],
   "source": [
    "# IMPORTANT: Target subject\n",
    "target = 1\n",
    "# IMPORTANT: Controls ERP/TFR preprocessing, turn off if you want to ignore an analysis and save time\n",
    "do_erp = True\n",
    "do_tfr = False\n",
    "# Turn off to prevent plots from saving\n",
    "save_flag = True\n",
    "# Turn on for sanity checks (visualizations after each pipeline step that don't get saved)\n",
    "debug_images = False\n",
    "# Controls detail level of MNE logs (in order from most to least: debug/info/warning/error/critical)\n",
    "debug_logs = 'critical'"
   ]
  },
  {
   "cell_type": "markdown",
   "metadata": {},
   "source": [
    "### Imports"
   ]
  },
  {
   "cell_type": "code",
   "execution_count": 2,
   "metadata": {},
   "outputs": [],
   "source": [
    "from src.preprocessing import *\n",
    "from src.plotting import *\n",
    "import os\n",
    "import mne\n",
    "from mne_bids import BIDSPath\n",
    "import numpy as np\n",
    "from scipy import stats\n",
    "from IPython.display import HTML"
   ]
  },
  {
   "cell_type": "markdown",
   "metadata": {},
   "source": [
    "### Pipeline\n",
    "For each subject: load their data, filter it, perform ICA and epoching (based on analysis). Here the pipeline is broken down into blocks for easier testing."
   ]
  },
  {
   "cell_type": "code",
   "execution_count": null,
   "metadata": {},
   "outputs": [],
   "source": [
    "# Set path for BIDS data structure\n",
    "main_path = BIDSPath(root = 'data', task = 'jacobsen', suffix = 'eeg')\n",
    "subject_paths = main_path.match()\n",
    "\n",
    "# Iterate over subjects\n",
    "for subject in subject_paths:\n",
    "        \n",
    "        # In this case, we only get the targeted subject\n",
    "        if subject == subject_paths[target-1]:\n",
    "                \n",
    "                # Load data\n",
    "                data = load_subject(subject, debug_logs, debug_images)"
   ]
  },
  {
   "cell_type": "code",
   "execution_count": 4,
   "metadata": {},
   "outputs": [],
   "source": [
    "# Filter data\n",
    "data = filter_data(data, debug_logs, debug_images)"
   ]
  },
  {
   "cell_type": "code",
   "execution_count": 5,
   "metadata": {},
   "outputs": [],
   "source": [
    "# Perform independent component analysis\n",
    "data = ica(data, debug_logs, debug_images)"
   ]
  },
  {
   "cell_type": "markdown",
   "metadata": {},
   "source": [
    "### Analysis: Event-Related Potential (ERP)"
   ]
  },
  {
   "cell_type": "code",
   "execution_count": 6,
   "metadata": {},
   "outputs": [],
   "source": [
    "# Get epochs by defining time window in seconds (X axis) and rejection in microvolts\n",
    "epochs = epoch_data(data, time_min = -1, time_max = 1, reject_criteria = 100e-6, debug_logs = debug_logs, debug_images = debug_images)\n",
    "\n",
    "# Plot ERP\n",
    "plot_erp(epochs, subject_id = target)"
   ]
  },
  {
   "cell_type": "markdown",
   "metadata": {},
   "source": [
    "### Analysis: Time Frequency Representation (TFR)"
   ]
  },
  {
   "cell_type": "code",
   "execution_count": null,
   "metadata": {},
   "outputs": [],
   "source": [
    "# Get epochs by defining time window in seconds (X axis)\n",
    "epochs = epoch_data(data, time_min = -1, time_max = 3, reject_criteria = False, debug_logs = debug_logs, debug_images = debug_images)\n",
    "powers = perform_tfr(epochs, debug_logs)\n",
    "spectra = {'regular': powers['regular'],\n",
    "        'random': powers['random']}\n",
    "\n",
    "# Plot TFR\n",
    "plot = plot_tfr(spectra, subject_id = target+1, debug_logs = debug_logs)"
   ]
  }
 ],
 "metadata": {
  "kernelspec": {
   "display_name": ".venv",
   "language": "python",
   "name": "python3"
  },
  "language_info": {
   "codemirror_mode": {
    "name": "ipython",
    "version": 3
   },
   "file_extension": ".py",
   "mimetype": "text/x-python",
   "name": "python",
   "nbconvert_exporter": "python",
   "pygments_lexer": "ipython3",
   "version": "3.10.8"
  }
 },
 "nbformat": 4,
 "nbformat_minor": 2
}
