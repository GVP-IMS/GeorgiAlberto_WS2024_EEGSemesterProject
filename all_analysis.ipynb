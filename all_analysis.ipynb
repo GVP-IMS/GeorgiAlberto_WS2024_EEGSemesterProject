{
 "cells": [
  {
   "cell_type": "markdown",
   "metadata": {},
   "source": [
    "### Adjust Settings"
   ]
  },
  {
   "cell_type": "code",
   "execution_count": 6,
   "metadata": {},
   "outputs": [],
   "source": [
    "# Turn off ERP/TFR preprocessing if you want to ignore an analysis and save time\n",
    "do_erp = True\n",
    "do_tfr = False\n",
    "# Turn off to prevent plots from saving\n",
    "save_flag = True\n",
    "# Turn on for sanity checks (visualizations after each pipeline step that don't get saved)\n",
    "debug_images = False\n",
    "# Controls detail level of MNE logs (in order from most to least: debug/info/warning/error/critical)\n",
    "debug_logs = 'critical'"
   ]
  },
  {
   "cell_type": "markdown",
   "metadata": {},
   "source": [
    "### Imports"
   ]
  },
  {
   "cell_type": "code",
   "execution_count": 7,
   "metadata": {},
   "outputs": [],
   "source": [
    "from src.preprocessing import *\n",
    "from src.plotting import *\n",
    "import os\n",
    "import mne\n",
    "from mne_bids import BIDSPath\n",
    "import numpy as np\n",
    "from scipy import stats\n",
    "from IPython.display import HTML"
   ]
  },
  {
   "cell_type": "markdown",
   "metadata": {},
   "source": [
    "### Preprocessing Pipeline\n",
    "For each subject: load their data, filter it, perform ICA and epoching (based on analysis)"
   ]
  },
  {
   "cell_type": "code",
   "execution_count": null,
   "metadata": {},
   "outputs": [],
   "source": [
    "# Set path for BIDS data structure\n",
    "main_path = BIDSPath(root = 'data', task = 'jacobsen', suffix = 'eeg')\n",
    "subject_paths = main_path.match()\n",
    "# !!! 5 subjects break with ICA, we exclude them here to keep the ICA\n",
    "subjects_to_exclude = [4,8,16,17,18]\n",
    "\n",
    "# Dictionaries to hold subject data\n",
    "subject_erp_epochs = {'regular': [], 'random': []}\n",
    "subject_erp_evokeds = {'regular': [], 'random': []}\n",
    "subject_tfr_epochs = {'regular': [], 'random': []}\n",
    "subject_tfr_evokeds = {'regular': [], 'random': []}\n",
    "subject_tfr_powers = {'regular': [], 'random': []}\n",
    "\n",
    "# Iterate over subjects\n",
    "counter = 0\n",
    "for subject in subject_paths:\n",
    "        counter += 1\n",
    "        \n",
    "        # Load data\n",
    "        data = load_subject(subject, debug_logs, debug_images)\n",
    "\n",
    "        # Filter data\n",
    "        data = filter_data(data, debug_logs, debug_images)\n",
    "\n",
    "        # Perform independent component analysis\n",
    "        \n",
    "        if counter not in subjects_to_exclude:\n",
    "                data = ica(data, debug_logs, debug_images)\n",
    "\n",
    "        # Epoch data and derive evokeds for ERP/TFR analysis\n",
    "        if do_erp:\n",
    "                # Get epochs for ERP by defining a time window in seconds (X axis) and rejection in microvolts\n",
    "                epochs_erp = epoch_data(data, time_min = -1, time_max = 1, reject_criteria = 100e-6, debug_logs = debug_logs, debug_images = debug_images)\n",
    "\n",
    "                subject_erp_epochs['regular'].append(epochs_erp['regular'])\n",
    "                subject_erp_epochs['random'].append(epochs_erp['random'])\n",
    "                subject_erp_evokeds['regular'].append(epochs_erp['regular'].average())\n",
    "                subject_erp_evokeds['random'].append(epochs_erp['random'].average())  \n",
    "        if do_tfr:\n",
    "                # Get epochs for TFR by defining a time window in seconds (X axis)\n",
    "                epochs_tfr = epoch_data(data, time_min = -1, time_max = 3, reject_criteria = False, debug_logs = debug_logs, debug_images = debug_images)\n",
    "                # Get power spectrum\n",
    "                powers = perform_tfr(epochs_tfr, debug_logs = debug_logs)\n",
    "\n",
    "                subject_tfr_epochs['regular'].append(epochs_tfr['regular'])\n",
    "                subject_tfr_epochs['random'].append(epochs_tfr['random'])\n",
    "                subject_tfr_evokeds['regular'].append(epochs_tfr['regular'].average())\n",
    "                subject_tfr_evokeds['random'].append(epochs_tfr['random'].average())\n",
    "                subject_tfr_powers['regular'].append(powers['regular'])\n",
    "                subject_tfr_powers['random'].append(powers['random'])"
   ]
  },
  {
   "cell_type": "markdown",
   "metadata": {},
   "source": [
    "### Analysis: Event-Related Potential (ERP)\n",
    "Plot and save ERPs of each subject"
   ]
  },
  {
   "cell_type": "code",
   "execution_count": 4,
   "metadata": {},
   "outputs": [],
   "source": [
    "%%capture\n",
    "# Remove %%capture to see the cell output i.e. plots\n",
    "\n",
    "for counter, subject in enumerate(subject_paths):\n",
    "    \n",
    "    # Get subject id\n",
    "    name = f'subject_{counter+1}'\n",
    "    \n",
    "    # Get epochs for ERP\n",
    "    epochs = {'regular': subject_erp_epochs['regular'][counter],\n",
    "        'random': subject_erp_epochs['random'][counter]}\n",
    "    \n",
    "    # Create save directory if it doesn't exist\n",
    "    os.makedirs(f'plots/{name}', exist_ok = True)\n",
    "\n",
    "    # Plot ERP\n",
    "    plot = plot_erp(epochs, subject_id = counter+1)\n",
    "\n",
    "    # Save plots\n",
    "    if save_flag:\n",
    "        save_path = f'plots/{name}/{name}_erp'\n",
    "        plot.savefig(save_path)"
   ]
  },
  {
   "cell_type": "markdown",
   "metadata": {},
   "source": [
    "Plot and save Grand Average ERP"
   ]
  },
  {
   "cell_type": "code",
   "execution_count": 5,
   "metadata": {},
   "outputs": [],
   "source": [
    "%%capture\n",
    "\n",
    "# Get average\n",
    "grand_average = {'regular': mne.grand_average(subject_erp_evokeds['regular']), \n",
    "            'random': mne.grand_average(subject_erp_evokeds['random'])}\n",
    "    \n",
    "# Create save directory if it doesn't exist\n",
    "os.makedirs(f'plots/subject_average', exist_ok = True)\n",
    "\n",
    "# Plot average\n",
    "plot = plot_average_erp(grand_average)\n",
    "\n",
    "# Save plot\n",
    "if save_flag:\n",
    "    save_path = f'plots/subject_average/subject_average_erp' \n",
    "    plot.savefig(save_path)"
   ]
  },
  {
   "cell_type": "markdown",
   "metadata": {},
   "source": [
    "Statistical Significance Testing: Mean Amplitude T-test"
   ]
  },
  {
   "cell_type": "code",
   "execution_count": 6,
   "metadata": {},
   "outputs": [
    {
     "name": "stdout",
     "output_type": "stream",
     "text": [
      "Difference t = -4.17 / p = 0.0006\n",
      "Statistically significant!\n"
     ]
    }
   ],
   "source": [
    "# Get trial difference for each subject\n",
    "diff_waves = []\n",
    "for counter, _ in enumerate(subject_paths):\n",
    "    diff_waves.append(mne.combine_evoked([subject_erp_evokeds['regular'][counter],\n",
    "                                          subject_erp_evokeds['random'][counter]], weights=[1, -1]))\n",
    "# Channels of interest\n",
    "picks = [\"PO7\", \"PO8\"]\n",
    "\n",
    "# Get mean amplitude difference\n",
    "y = np.array([np.mean(e.get_data(picks = picks, tmin = -1, tmax = 1), axis = 1) for e in diff_waves])\n",
    "\n",
    "# t-Test\n",
    "t, pval = stats.ttest_1samp(y, 0)\n",
    "pval = round(pval[0], 4)\n",
    "print('Difference t =', str(round(t[0], 2)), '/ p =', str(pval))\n",
    "if pval <= 0.5:\n",
    "    print('Statistically significant!')\n",
    "else:\n",
    "    print('Statistically insignificant!')"
   ]
  },
  {
   "cell_type": "markdown",
   "metadata": {},
   "source": [
    "### Analysis: Time Frequency Representation (TFR)\n",
    "Plot and save TFRs for each subject"
   ]
  },
  {
   "cell_type": "code",
   "execution_count": 13,
   "metadata": {},
   "outputs": [],
   "source": [
    "%%capture\n",
    "\n",
    "for counter, subject in enumerate(subject_paths):\n",
    "    \n",
    "    # Get subject id\n",
    "    name = f'subject_{counter+1}'\n",
    "    print(name)\n",
    "    \n",
    "    # Get spectra for TFR\n",
    "    spectra = {'regular': subject_tfr_powers['regular'][counter],\n",
    "        'random': subject_tfr_powers['random'][counter]}\n",
    "    \n",
    "    # Create save directory if it doesn't exist\n",
    "    os.makedirs(f'plots/{name}', exist_ok = True)\n",
    "\n",
    "    # Plot TFR\n",
    "    plot = plot_tfr(spectra, subject_id = counter+1, debug_logs = debug_logs)\n",
    "    \n",
    "    # Save plots\n",
    "    if save_flag:\n",
    "        save_path = f'plots/{name}/{name}_tfr'\n",
    "        plot.savefig(save_path)"
   ]
  },
  {
   "cell_type": "markdown",
   "metadata": {},
   "source": [
    "Plot and save Grand Average TFR + Topographic Map"
   ]
  },
  {
   "cell_type": "code",
   "execution_count": 11,
   "metadata": {},
   "outputs": [],
   "source": [
    "%%capture\n",
    "\n",
    "# Get average\n",
    "grand_average = {'regular': mne.grand_average(subject_tfr_evokeds['regular']), \n",
    "            'random': mne.grand_average(subject_tfr_evokeds['random'])}\n",
    "\n",
    "# Plot average\n",
    "spectra = perform_tfr(grand_average, debug_logs = debug_logs)\n",
    "plot = plot_tfr(spectra, subject_id = 'average', debug_logs = debug_logs)\n",
    "\n",
    "# Plot topomap\n",
    "plot2 = plot_topomap(grand_average, title = 'Subject average TFR')\n",
    "\n",
    "\n",
    "# Create save directory if it doesn't exist\n",
    "os.makedirs(f'plots/subject_average', exist_ok = True)\n",
    "\n",
    "# Save plots\n",
    "if save_flag:\n",
    "    save_path = f'plots/subject_average/subject_average_tfr'\n",
    "    plot.savefig(save_path)\n",
    "    save_path2 = f'plots/subject_average/subject_average_topomap'\n",
    "    plot2.savefig(save_path2)"
   ]
  },
  {
   "cell_type": "markdown",
   "metadata": {},
   "source": [
    "Animate Topomap"
   ]
  },
  {
   "cell_type": "code",
   "execution_count": null,
   "metadata": {},
   "outputs": [],
   "source": [
    "fig, anim = grand_average['regular'].animate_topomap(ch_type = \"eeg\", frame_rate = 2, blit = False)\n",
    "HTML(anim.to_jshtml())"
   ]
  }
 ],
 "metadata": {
  "kernelspec": {
   "display_name": ".venv",
   "language": "python",
   "name": "python3"
  },
  "language_info": {
   "codemirror_mode": {
    "name": "ipython",
    "version": 3
   },
   "file_extension": ".py",
   "mimetype": "text/x-python",
   "name": "python",
   "nbconvert_exporter": "python",
   "pygments_lexer": "ipython3",
   "version": "3.10.8"
  }
 },
 "nbformat": 4,
 "nbformat_minor": 2
}
